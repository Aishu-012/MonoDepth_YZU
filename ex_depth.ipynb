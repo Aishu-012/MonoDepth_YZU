{
 "cells": [
  {
   "cell_type": "code",
   "execution_count": 3,
   "metadata": {},
   "outputs": [
    {
     "name": "stdout",
     "output_type": "stream",
     "text": [
      "-> Loading model from  /home/laksh/Desktop/mono_vit/KITTI_MR\n",
      "   Loading pretrained encoder\n",
      "/home/laksh/.local/lib/python3.8/site-packages/torchvision/models/_utils.py:135: UserWarning: Using 'weights' as positional parameter(s) is deprecated since 0.13 and may be removed in the future. Please use keyword parameter(s) instead.\n",
      "  warnings.warn(\n",
      "/home/laksh/.local/lib/python3.8/site-packages/torchvision/models/_utils.py:223: UserWarning: Arguments other than a weight enum or `None` for 'weights' are deprecated since 0.13 and may be removed in the future. The current behavior is equivalent to passing `weights=None`.\n",
      "  warnings.warn(msg)\n",
      "   Loading pretrained decoder\n",
      "   Loading pose network\n",
      "-> Saved output image to assets/img_test_costvol_min_multi.jpeg\n",
      "-> Saved output image to assets/img_test_disp_multi.jpeg\n",
      "-> Done!\n"
     ]
    }
   ],
   "source": [
    "! python -m manydepth.test_simple \\\n",
    "    --target_image_path assets/img_test.jpg \\\n",
    "    --source_image_path assets/img_test.jpg \\\n",
    "    --intrinsics_json_path assets/test_sequence_intrinsics.json \\\n",
    "    --model_path /home/laksh/Desktop/mono_vit/KITTI_MR"
   ]
  },
  {
   "cell_type": "code",
   "execution_count": null,
   "metadata": {},
   "outputs": [],
   "source": []
  }
 ],
 "metadata": {
  "kernelspec": {
   "display_name": "base",
   "language": "python",
   "name": "python3"
  },
  "language_info": {
   "codemirror_mode": {
    "name": "ipython",
    "version": 3
   },
   "file_extension": ".py",
   "mimetype": "text/x-python",
   "name": "python",
   "nbconvert_exporter": "python",
   "pygments_lexer": "ipython3",
   "version": "3.8.18"
  }
 },
 "nbformat": 4,
 "nbformat_minor": 2
}
